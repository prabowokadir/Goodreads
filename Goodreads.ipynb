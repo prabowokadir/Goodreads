{
 "cells": [
  {
   "cell_type": "markdown",
   "metadata": {},
   "source": [
    "This is a project that I created when I first started studying Data Science in July 2019. This project is my final result from `Big Data Analytics Training` that was held by `Digital Talent Scholarship - Ministry of Communication and Informatic`."
   ]
  },
  {
   "cell_type": "markdown",
   "metadata": {},
   "source": [
    "The project I'm trying to work on is crawling data from the `Goodreads-Best Books of the Decade: 2010s (2010-2019)` website. Apart from that, I also did some simple analysis with the data."
   ]
  },
  {
   "cell_type": "markdown",
   "metadata": {},
   "source": [
    "### Crawling Proccess"
   ]
  },
  {
   "cell_type": "markdown",
   "metadata": {},
   "source": [
    "First of all, I'll be crawling the data from `Goodreads-Best Books of the Decade: 2010s (2010-2019)` website. The data is include titles, authors, ratings, scores, and voteds."
   ]
  },
  {
   "cell_type": "code",
   "execution_count": 1,
   "metadata": {},
   "outputs": [],
   "source": [
    "%%capture\n",
    "! pip intall seaborn\n",
    "import seaborn as sns\n",
    "import matplotlib.pyplot as plt\n",
    "import pandas as pd\n",
    "import numpy as np\n",
    "from requests import get\n",
    "from bs4 import BeautifulSoup\n",
    "from time import sleep\n",
    "from time import time\n",
    "from random import randint\n",
    "from scipy import stats\n",
    "from sklearn.linear_model import LinearRegression\n",
    "%matplotlib inline"
   ]
  },
  {
   "cell_type": "code",
   "execution_count": 2,
   "metadata": {},
   "outputs": [],
   "source": [
    "# Prepare the list for each data\n",
    "titles = []\n",
    "authors = []\n",
    "ratings = []\n",
    "scores = []\n",
    "voteds = []"
   ]
  },
  {
   "cell_type": "code",
   "execution_count": 3,
   "metadata": {},
   "outputs": [],
   "source": [
    "start_time = time()\n",
    "requests = 0"
   ]
  },
  {
   "cell_type": "code",
   "execution_count": 4,
   "metadata": {},
   "outputs": [],
   "source": [
    "pages = [str(i) for i in range(1,68)]"
   ]
  },
  {
   "cell_type": "code",
   "execution_count": 5,
   "metadata": {
    "scrolled": true
   },
   "outputs": [
    {
     "name": "stdout",
     "output_type": "stream",
     "text": [
      "https://www.goodreads.com/list/show/4093.Best_Books_of_the_Decade_2010_s?page=1\n",
      "Request: 1; Frequency: 0.0328238973020485 requests/s\n",
      "https://www.goodreads.com/list/show/4093.Best_Books_of_the_Decade_2010_s?page=2\n",
      "Request: 2; Frequency: 0.030171563801925465 requests/s\n",
      "https://www.goodreads.com/list/show/4093.Best_Books_of_the_Decade_2010_s?page=3\n",
      "Request: 3; Frequency: 0.029753966014098018 requests/s\n",
      "https://www.goodreads.com/list/show/4093.Best_Books_of_the_Decade_2010_s?page=4\n",
      "Request: 4; Frequency: 0.03249111547337663 requests/s\n",
      "https://www.goodreads.com/list/show/4093.Best_Books_of_the_Decade_2010_s?page=5\n",
      "Request: 5; Frequency: 0.033863828681107495 requests/s\n",
      "https://www.goodreads.com/list/show/4093.Best_Books_of_the_Decade_2010_s?page=6\n",
      "Request: 6; Frequency: 0.03474800330412936 requests/s\n",
      "https://www.goodreads.com/list/show/4093.Best_Books_of_the_Decade_2010_s?page=7\n",
      "Request: 7; Frequency: 0.03661505754404091 requests/s\n",
      "https://www.goodreads.com/list/show/4093.Best_Books_of_the_Decade_2010_s?page=8\n",
      "Request: 8; Frequency: 0.03635527613871208 requests/s\n",
      "https://www.goodreads.com/list/show/4093.Best_Books_of_the_Decade_2010_s?page=9\n",
      "Request: 9; Frequency: 0.03741116540249263 requests/s\n",
      "https://www.goodreads.com/list/show/4093.Best_Books_of_the_Decade_2010_s?page=10\n",
      "Request: 10; Frequency: 0.03772133563672817 requests/s\n",
      "https://www.goodreads.com/list/show/4093.Best_Books_of_the_Decade_2010_s?page=11\n",
      "Request: 11; Frequency: 0.03690100824196913 requests/s\n",
      "https://www.goodreads.com/list/show/4093.Best_Books_of_the_Decade_2010_s?page=12\n",
      "Request: 12; Frequency: 0.0365739368482531 requests/s\n",
      "https://www.goodreads.com/list/show/4093.Best_Books_of_the_Decade_2010_s?page=13\n",
      "Request: 13; Frequency: 0.0368974396184603 requests/s\n",
      "https://www.goodreads.com/list/show/4093.Best_Books_of_the_Decade_2010_s?page=14\n",
      "Request: 14; Frequency: 0.036633954247826915 requests/s\n",
      "https://www.goodreads.com/list/show/4093.Best_Books_of_the_Decade_2010_s?page=15\n",
      "Request: 15; Frequency: 0.036440551320535496 requests/s\n",
      "https://www.goodreads.com/list/show/4093.Best_Books_of_the_Decade_2010_s?page=16\n",
      "Request: 16; Frequency: 0.036914104735063805 requests/s\n",
      "https://www.goodreads.com/list/show/4093.Best_Books_of_the_Decade_2010_s?page=17\n",
      "Request: 17; Frequency: 0.03731833366964573 requests/s\n",
      "https://www.goodreads.com/list/show/4093.Best_Books_of_the_Decade_2010_s?page=18\n",
      "Request: 18; Frequency: 0.037559657248701396 requests/s\n",
      "https://www.goodreads.com/list/show/4093.Best_Books_of_the_Decade_2010_s?page=19\n",
      "Request: 19; Frequency: 0.03832116329391315 requests/s\n",
      "https://www.goodreads.com/list/show/4093.Best_Books_of_the_Decade_2010_s?page=20\n",
      "Request: 20; Frequency: 0.03835510553508147 requests/s\n",
      "https://www.goodreads.com/list/show/4093.Best_Books_of_the_Decade_2010_s?page=21\n",
      "Request: 21; Frequency: 0.03867476476646708 requests/s\n",
      "https://www.goodreads.com/list/show/4093.Best_Books_of_the_Decade_2010_s?page=22\n",
      "Request: 22; Frequency: 0.03824211849787124 requests/s\n",
      "https://www.goodreads.com/list/show/4093.Best_Books_of_the_Decade_2010_s?page=23\n",
      "Request: 23; Frequency: 0.03805192346538833 requests/s\n",
      "https://www.goodreads.com/list/show/4093.Best_Books_of_the_Decade_2010_s?page=24\n",
      "Request: 24; Frequency: 0.03848437077007399 requests/s\n",
      "https://www.goodreads.com/list/show/4093.Best_Books_of_the_Decade_2010_s?page=25\n",
      "Request: 25; Frequency: 0.03811175919736043 requests/s\n",
      "https://www.goodreads.com/list/show/4093.Best_Books_of_the_Decade_2010_s?page=26\n",
      "Request: 26; Frequency: 0.03838281499436371 requests/s\n",
      "https://www.goodreads.com/list/show/4093.Best_Books_of_the_Decade_2010_s?page=27\n",
      "Request: 27; Frequency: 0.03863106319949007 requests/s\n",
      "https://www.goodreads.com/list/show/4093.Best_Books_of_the_Decade_2010_s?page=28\n",
      "Request: 28; Frequency: 0.03824739582786726 requests/s\n",
      "https://www.goodreads.com/list/show/4093.Best_Books_of_the_Decade_2010_s?page=29\n",
      "Request: 29; Frequency: 0.03836832469642748 requests/s\n",
      "https://www.goodreads.com/list/show/4093.Best_Books_of_the_Decade_2010_s?page=30\n",
      "Request: 30; Frequency: 0.03830724918082405 requests/s\n",
      "https://www.goodreads.com/list/show/4093.Best_Books_of_the_Decade_2010_s?page=31\n",
      "Request: 31; Frequency: 0.038663570598489225 requests/s\n",
      "https://www.goodreads.com/list/show/4093.Best_Books_of_the_Decade_2010_s?page=32\n",
      "Request: 32; Frequency: 0.038849337127145604 requests/s\n",
      "https://www.goodreads.com/list/show/4093.Best_Books_of_the_Decade_2010_s?page=33\n",
      "Request: 33; Frequency: 0.038210137970583716 requests/s\n",
      "https://www.goodreads.com/list/show/4093.Best_Books_of_the_Decade_2010_s?page=34\n",
      "Request: 34; Frequency: 0.03824147438195881 requests/s\n",
      "https://www.goodreads.com/list/show/4093.Best_Books_of_the_Decade_2010_s?page=35\n",
      "Request: 35; Frequency: 0.037952391294621024 requests/s\n",
      "https://www.goodreads.com/list/show/4093.Best_Books_of_the_Decade_2010_s?page=36\n",
      "Request: 36; Frequency: 0.03825032373111876 requests/s\n",
      "https://www.goodreads.com/list/show/4093.Best_Books_of_the_Decade_2010_s?page=37\n",
      "Request: 37; Frequency: 0.03824802779856766 requests/s\n",
      "https://www.goodreads.com/list/show/4093.Best_Books_of_the_Decade_2010_s?page=38\n",
      "Request: 38; Frequency: 0.03840522854179636 requests/s\n",
      "https://www.goodreads.com/list/show/4093.Best_Books_of_the_Decade_2010_s?page=39\n",
      "Request: 39; Frequency: 0.038223580406279045 requests/s\n",
      "https://www.goodreads.com/list/show/4093.Best_Books_of_the_Decade_2010_s?page=40\n",
      "Request: 40; Frequency: 0.03811334258965025 requests/s\n",
      "https://www.goodreads.com/list/show/4093.Best_Books_of_the_Decade_2010_s?page=41\n",
      "Request: 41; Frequency: 0.03808733962829458 requests/s\n",
      "https://www.goodreads.com/list/show/4093.Best_Books_of_the_Decade_2010_s?page=42\n",
      "Request: 42; Frequency: 0.03828346686997927 requests/s\n",
      "https://www.goodreads.com/list/show/4093.Best_Books_of_the_Decade_2010_s?page=43\n",
      "Request: 43; Frequency: 0.038161224741962575 requests/s\n",
      "https://www.goodreads.com/list/show/4093.Best_Books_of_the_Decade_2010_s?page=44\n",
      "Request: 44; Frequency: 0.038051194649965224 requests/s\n",
      "https://www.goodreads.com/list/show/4093.Best_Books_of_the_Decade_2010_s?page=45\n",
      "Request: 45; Frequency: 0.037989558191622474 requests/s\n",
      "https://www.goodreads.com/list/show/4093.Best_Books_of_the_Decade_2010_s?page=46\n",
      "Request: 46; Frequency: 0.0378449484745303 requests/s\n",
      "https://www.goodreads.com/list/show/4093.Best_Books_of_the_Decade_2010_s?page=47\n",
      "Request: 47; Frequency: 0.03767319105692412 requests/s\n",
      "https://www.goodreads.com/list/show/4093.Best_Books_of_the_Decade_2010_s?page=48\n",
      "Request: 48; Frequency: 0.03758769964799208 requests/s\n",
      "https://www.goodreads.com/list/show/4093.Best_Books_of_the_Decade_2010_s?page=49\n",
      "Request: 49; Frequency: 0.03756351031682888 requests/s\n",
      "https://www.goodreads.com/list/show/4093.Best_Books_of_the_Decade_2010_s?page=50\n",
      "Request: 50; Frequency: 0.03770111822017632 requests/s\n",
      "https://www.goodreads.com/list/show/4093.Best_Books_of_the_Decade_2010_s?page=51\n",
      "Request: 51; Frequency: 0.037574430968720866 requests/s\n",
      "https://www.goodreads.com/list/show/4093.Best_Books_of_the_Decade_2010_s?page=52\n",
      "Request: 52; Frequency: 0.0375660717642116 requests/s\n",
      "https://www.goodreads.com/list/show/4093.Best_Books_of_the_Decade_2010_s?page=53\n",
      "Request: 53; Frequency: 0.03741695001554763 requests/s\n",
      "https://www.goodreads.com/list/show/4093.Best_Books_of_the_Decade_2010_s?page=54\n",
      "Request: 54; Frequency: 0.03736666323849735 requests/s\n",
      "https://www.goodreads.com/list/show/4093.Best_Books_of_the_Decade_2010_s?page=55\n",
      "Request: 55; Frequency: 0.03763352764771623 requests/s\n",
      "https://www.goodreads.com/list/show/4093.Best_Books_of_the_Decade_2010_s?page=56\n",
      "Request: 56; Frequency: 0.03782156129064352 requests/s\n",
      "https://www.goodreads.com/list/show/4093.Best_Books_of_the_Decade_2010_s?page=57\n",
      "Request: 57; Frequency: 0.03783144738123616 requests/s\n",
      "https://www.goodreads.com/list/show/4093.Best_Books_of_the_Decade_2010_s?page=58\n",
      "Request: 58; Frequency: 0.03787630277978234 requests/s\n",
      "https://www.goodreads.com/list/show/4093.Best_Books_of_the_Decade_2010_s?page=59\n",
      "Request: 59; Frequency: 0.03792368700879288 requests/s\n",
      "https://www.goodreads.com/list/show/4093.Best_Books_of_the_Decade_2010_s?page=60\n",
      "Request: 60; Frequency: 0.03795623416355228 requests/s\n",
      "https://www.goodreads.com/list/show/4093.Best_Books_of_the_Decade_2010_s?page=61\n"
     ]
    },
    {
     "name": "stdout",
     "output_type": "stream",
     "text": [
      "Request: 61; Frequency: 0.03797110764746519 requests/s\n",
      "https://www.goodreads.com/list/show/4093.Best_Books_of_the_Decade_2010_s?page=62\n",
      "Request: 62; Frequency: 0.037963522248604734 requests/s\n",
      "https://www.goodreads.com/list/show/4093.Best_Books_of_the_Decade_2010_s?page=63\n",
      "Request: 63; Frequency: 0.037885286995292984 requests/s\n",
      "https://www.goodreads.com/list/show/4093.Best_Books_of_the_Decade_2010_s?page=64\n",
      "Request: 64; Frequency: 0.03774345472763577 requests/s\n",
      "https://www.goodreads.com/list/show/4093.Best_Books_of_the_Decade_2010_s?page=65\n",
      "Request: 65; Frequency: 0.037598770728878184 requests/s\n",
      "https://www.goodreads.com/list/show/4093.Best_Books_of_the_Decade_2010_s?page=66\n",
      "Request: 66; Frequency: 0.0374604344821231 requests/s\n",
      "https://www.goodreads.com/list/show/4093.Best_Books_of_the_Decade_2010_s?page=67\n",
      "Request: 67; Frequency: 0.0375107316043945 requests/s\n"
     ]
    }
   ],
   "source": [
    "# Crawling proccess\n",
    "for page in pages:       \n",
    "    url = 'https://www.goodreads.com/list/show/4093.Best_Books_of_the_Decade_2010_s?page='+page\n",
    "    print(url)\n",
    "    response = get(url)\n",
    "    \n",
    "    sleep(randint(10,25))\n",
    "    \n",
    "    requests += 1\n",
    "    elapsed_time = time() - start_time\n",
    "    print('Request: {}; Frequency: {} requests/s'.format(requests, requests/elapsed_time))\n",
    "    \n",
    "    soup = BeautifulSoup(response.text, 'html.parser')\n",
    "    \n",
    "    book_title_list = soup.find_all('a', class_='bookTitle')\n",
    "    for book_title in book_title_list:\n",
    "        title = book_title.span.text\n",
    "        titles.append(title)\n",
    "        \n",
    "    author_list = soup.find_all('a', class_='authorName')\n",
    "    for author_name in author_list:\n",
    "        author = author_name.span.text\n",
    "        authors.append(author)\n",
    "        \n",
    "    rating_list = soup.find_all('span', class_='minirating')\n",
    "    for book_rating in rating_list:\n",
    "        rating = book_rating.text[1:5]\n",
    "        ratings.append(rating)\n",
    "        \n",
    "    score_list = soup.find_all('span', class_='smallText uitext')\n",
    "    for book_score in score_list:\n",
    "        score = book_score.a.text[7:]\n",
    "        scores.append(score)\n",
    "        \n",
    "    voted_list = soup.find_all('span', class_='smallText uitext')\n",
    "    for people_voted in voted_list:\n",
    "        voted = people_voted.text[29:53]\n",
    "        voteds.append(voted)"
   ]
  },
  {
   "cell_type": "markdown",
   "metadata": {},
   "source": [
    "### DataFrame"
   ]
  },
  {
   "cell_type": "markdown",
   "metadata": {},
   "source": [
    "The data that has been successfully retrieved by crawling will then be saved into a goodreads table with csv format. In addition, the data cleaning process will be carried out to obtain appropriate data to enter the analysis process."
   ]
  },
  {
   "cell_type": "code",
   "execution_count": 6,
   "metadata": {},
   "outputs": [],
   "source": [
    "# Make a new DataFrame\n",
    "goodreads = pd.DataFrame({'Book Title': titles,\n",
    "                          'Author': authors,\n",
    "                          'Rating': ratings,\n",
    "                          'Score': scores,\n",
    "                          'People Voted': voteds})"
   ]
  },
  {
   "cell_type": "code",
   "execution_count": 7,
   "metadata": {},
   "outputs": [],
   "source": [
    "# Save file to .csv format\n",
    "goodreads.to_csv('Goodreads.csv')"
   ]
  },
  {
   "cell_type": "code",
   "execution_count": 8,
   "metadata": {},
   "outputs": [
    {
     "data": {
      "text/html": [
       "<div>\n",
       "<style scoped>\n",
       "    .dataframe tbody tr th:only-of-type {\n",
       "        vertical-align: middle;\n",
       "    }\n",
       "\n",
       "    .dataframe tbody tr th {\n",
       "        vertical-align: top;\n",
       "    }\n",
       "\n",
       "    .dataframe thead th {\n",
       "        text-align: right;\n",
       "    }\n",
       "</style>\n",
       "<table border=\"1\" class=\"dataframe\">\n",
       "  <thead>\n",
       "    <tr style=\"text-align: right;\">\n",
       "      <th></th>\n",
       "      <th>Unnamed: 0</th>\n",
       "      <th>Book Title</th>\n",
       "      <th>Author</th>\n",
       "      <th>Rating</th>\n",
       "      <th>Score</th>\n",
       "      <th>People Voted</th>\n",
       "    </tr>\n",
       "  </thead>\n",
       "  <tbody>\n",
       "    <tr>\n",
       "      <th>0</th>\n",
       "      <td>0</td>\n",
       "      <td>The Fault in Our Stars</td>\n",
       "      <td>John Green</td>\n",
       "      <td>4.20</td>\n",
       "      <td>202,279</td>\n",
       "      <td>and\\n2,050 people voted</td>\n",
       "    </tr>\n",
       "    <tr>\n",
       "      <th>1</th>\n",
       "      <td>1</td>\n",
       "      <td>Divergent (Divergent, #1)</td>\n",
       "      <td>Veronica Roth</td>\n",
       "      <td>4.19</td>\n",
       "      <td>146,912</td>\n",
       "      <td>and\\n1,502 people voted</td>\n",
       "    </tr>\n",
       "    <tr>\n",
       "      <th>2</th>\n",
       "      <td>2</td>\n",
       "      <td>Mockingjay (The Hunger Games, #3)</td>\n",
       "      <td>Suzanne Collins</td>\n",
       "      <td>4.04</td>\n",
       "      <td>141,868</td>\n",
       "      <td>and\\n1,454 people voted</td>\n",
       "    </tr>\n",
       "    <tr>\n",
       "      <th>3</th>\n",
       "      <td>3</td>\n",
       "      <td>Gone Girl</td>\n",
       "      <td>Gillian Flynn</td>\n",
       "      <td>4.08</td>\n",
       "      <td>125,694</td>\n",
       "      <td>and\\n1,282 people voted</td>\n",
       "    </tr>\n",
       "    <tr>\n",
       "      <th>4</th>\n",
       "      <td>4</td>\n",
       "      <td>The Martian</td>\n",
       "      <td>Andy Weir</td>\n",
       "      <td>4.40</td>\n",
       "      <td>122,769</td>\n",
       "      <td>and\\n1,251 people voted</td>\n",
       "    </tr>\n",
       "  </tbody>\n",
       "</table>\n",
       "</div>"
      ],
      "text/plain": [
       "   Unnamed: 0                         Book Title           Author Rating  \\\n",
       "0           0             The Fault in Our Stars       John Green   4.20   \n",
       "1           1          Divergent (Divergent, #1)    Veronica Roth   4.19   \n",
       "2           2  Mockingjay (The Hunger Games, #3)  Suzanne Collins   4.04   \n",
       "3           3                          Gone Girl    Gillian Flynn   4.08   \n",
       "4           4                        The Martian        Andy Weir   4.40   \n",
       "\n",
       "     Score               People Voted  \n",
       "0  202,279    and\\n2,050 people voted  \n",
       "1  146,912    and\\n1,502 people voted  \n",
       "2  141,868    and\\n1,454 people voted  \n",
       "3  125,694    and\\n1,282 people voted  \n",
       "4  122,769    and\\n1,251 people voted  "
      ]
     },
     "execution_count": 8,
     "metadata": {},
     "output_type": "execute_result"
    }
   ],
   "source": [
    "df = pd.read_csv('Goodreads.csv')\n",
    "df.head()"
   ]
  },
  {
   "cell_type": "markdown",
   "metadata": {},
   "source": [
    "### Cleaning Proccess"
   ]
  },
  {
   "cell_type": "code",
   "execution_count": 9,
   "metadata": {
    "scrolled": true
   },
   "outputs": [],
   "source": [
    "del df['Unnamed: 0']\n",
    "df['Score'] = df['Score'].str.replace(r'\\D', '')\n",
    "df['Score'] = df['Score'].astype(np.int64)\n",
    "df['Rating'] = df['Rating'].str.replace('eall','4.00')\n",
    "df['Rating'] = df['Rating'].str.replace('t wa','5.00')\n",
    "df['Rating'] = df['Rating'].str.replace('iked','3.00')\n",
    "df['Rating'] = df['Rating'].str.replace(r'\\D', '')\n",
    "df['Rating'] = df['Rating'].astype(np.int64)\n",
    "df['Rating'] = df['Rating']/100\n",
    "df['People Voted'] = df['People Voted'].str.replace(r'\\D', '')\n",
    "df['People Voted'] = df['People Voted'].astype(np.int64)"
   ]
  },
  {
   "cell_type": "code",
   "execution_count": 10,
   "metadata": {},
   "outputs": [
    {
     "data": {
      "text/html": [
       "<div>\n",
       "<style scoped>\n",
       "    .dataframe tbody tr th:only-of-type {\n",
       "        vertical-align: middle;\n",
       "    }\n",
       "\n",
       "    .dataframe tbody tr th {\n",
       "        vertical-align: top;\n",
       "    }\n",
       "\n",
       "    .dataframe thead th {\n",
       "        text-align: right;\n",
       "    }\n",
       "</style>\n",
       "<table border=\"1\" class=\"dataframe\">\n",
       "  <thead>\n",
       "    <tr style=\"text-align: right;\">\n",
       "      <th></th>\n",
       "      <th>Book Title</th>\n",
       "      <th>Author</th>\n",
       "      <th>Rating</th>\n",
       "      <th>Score</th>\n",
       "      <th>People Voted</th>\n",
       "    </tr>\n",
       "  </thead>\n",
       "  <tbody>\n",
       "    <tr>\n",
       "      <th>0</th>\n",
       "      <td>The Fault in Our Stars</td>\n",
       "      <td>John Green</td>\n",
       "      <td>4.20</td>\n",
       "      <td>202279</td>\n",
       "      <td>2050</td>\n",
       "    </tr>\n",
       "    <tr>\n",
       "      <th>1</th>\n",
       "      <td>Divergent (Divergent, #1)</td>\n",
       "      <td>Veronica Roth</td>\n",
       "      <td>4.19</td>\n",
       "      <td>146912</td>\n",
       "      <td>1502</td>\n",
       "    </tr>\n",
       "    <tr>\n",
       "      <th>2</th>\n",
       "      <td>Mockingjay (The Hunger Games, #3)</td>\n",
       "      <td>Suzanne Collins</td>\n",
       "      <td>4.04</td>\n",
       "      <td>141868</td>\n",
       "      <td>1454</td>\n",
       "    </tr>\n",
       "    <tr>\n",
       "      <th>3</th>\n",
       "      <td>Gone Girl</td>\n",
       "      <td>Gillian Flynn</td>\n",
       "      <td>4.08</td>\n",
       "      <td>125694</td>\n",
       "      <td>1282</td>\n",
       "    </tr>\n",
       "    <tr>\n",
       "      <th>4</th>\n",
       "      <td>The Martian</td>\n",
       "      <td>Andy Weir</td>\n",
       "      <td>4.40</td>\n",
       "      <td>122769</td>\n",
       "      <td>1251</td>\n",
       "    </tr>\n",
       "  </tbody>\n",
       "</table>\n",
       "</div>"
      ],
      "text/plain": [
       "                          Book Title           Author  Rating   Score  \\\n",
       "0             The Fault in Our Stars       John Green    4.20  202279   \n",
       "1          Divergent (Divergent, #1)    Veronica Roth    4.19  146912   \n",
       "2  Mockingjay (The Hunger Games, #3)  Suzanne Collins    4.04  141868   \n",
       "3                          Gone Girl    Gillian Flynn    4.08  125694   \n",
       "4                        The Martian        Andy Weir    4.40  122769   \n",
       "\n",
       "   People Voted  \n",
       "0          2050  \n",
       "1          1502  \n",
       "2          1454  \n",
       "3          1282  \n",
       "4          1251  "
      ]
     },
     "execution_count": 10,
     "metadata": {},
     "output_type": "execute_result"
    }
   ],
   "source": [
    "df.head()"
   ]
  },
  {
   "cell_type": "markdown",
   "metadata": {},
   "source": [
    "### Analysis Proccess"
   ]
  },
  {
   "cell_type": "markdown",
   "metadata": {},
   "source": [
    "#### Number of Author"
   ]
  },
  {
   "cell_type": "code",
   "execution_count": 11,
   "metadata": {},
   "outputs": [
    {
     "data": {
      "text/plain": [
       "4255"
      ]
     },
     "execution_count": 11,
     "metadata": {},
     "output_type": "execute_result"
    }
   ],
   "source": [
    "df.Author.nunique()"
   ]
  },
  {
   "cell_type": "markdown",
   "metadata": {},
   "source": [
    "From the data we have reviewed and cleaned, we can see that in the 2010s (2010-2019) there were 4255 authors whose books became `Best Book of the Decade`."
   ]
  },
  {
   "cell_type": "markdown",
   "metadata": {},
   "source": [
    "#### Most Contributors"
   ]
  },
  {
   "cell_type": "code",
   "execution_count": 12,
   "metadata": {},
   "outputs": [
    {
     "data": {
      "text/html": [
       "<div>\n",
       "<style scoped>\n",
       "    .dataframe tbody tr th:only-of-type {\n",
       "        vertical-align: middle;\n",
       "    }\n",
       "\n",
       "    .dataframe tbody tr th {\n",
       "        vertical-align: top;\n",
       "    }\n",
       "\n",
       "    .dataframe thead th {\n",
       "        text-align: right;\n",
       "    }\n",
       "</style>\n",
       "<table border=\"1\" class=\"dataframe\">\n",
       "  <thead>\n",
       "    <tr style=\"text-align: right;\">\n",
       "      <th></th>\n",
       "      <th>Book Title</th>\n",
       "    </tr>\n",
       "    <tr>\n",
       "      <th>Author</th>\n",
       "      <th></th>\n",
       "    </tr>\n",
       "  </thead>\n",
       "  <tbody>\n",
       "    <tr>\n",
       "      <th>John Blandly</th>\n",
       "      <td>54</td>\n",
       "    </tr>\n",
       "    <tr>\n",
       "      <th>Stephen King</th>\n",
       "      <td>23</td>\n",
       "    </tr>\n",
       "    <tr>\n",
       "      <th>Lucian Bane</th>\n",
       "      <td>19</td>\n",
       "    </tr>\n",
       "    <tr>\n",
       "      <th>Gena Showalter</th>\n",
       "      <td>16</td>\n",
       "    </tr>\n",
       "    <tr>\n",
       "      <th>Brian K. Vaughan</th>\n",
       "      <td>16</td>\n",
       "    </tr>\n",
       "  </tbody>\n",
       "</table>\n",
       "</div>"
      ],
      "text/plain": [
       "                  Book Title\n",
       "Author                      \n",
       "John Blandly              54\n",
       "Stephen King              23\n",
       "Lucian Bane               19\n",
       "Gena Showalter            16\n",
       "Brian K. Vaughan          16"
      ]
     },
     "execution_count": 12,
     "metadata": {},
     "output_type": "execute_result"
    }
   ],
   "source": [
    "book_per_author = df[['Book Title', 'Author']].groupby(['Author']).count()\n",
    "book_per_author.sort_values(by='Book Title', ascending=False).head()"
   ]
  },
  {
   "cell_type": "markdown",
   "metadata": {},
   "source": [
    "Based on the results above, we can find out that the author with the most book contributions in the 2010s (2010-2019) was John Blandly with 54 books."
   ]
  },
  {
   "cell_type": "markdown",
   "metadata": {},
   "source": [
    "#### Top 5 Author (by Score)"
   ]
  },
  {
   "cell_type": "code",
   "execution_count": 13,
   "metadata": {
    "scrolled": false
   },
   "outputs": [
    {
     "data": {
      "text/html": [
       "<div>\n",
       "<style scoped>\n",
       "    .dataframe tbody tr th:only-of-type {\n",
       "        vertical-align: middle;\n",
       "    }\n",
       "\n",
       "    .dataframe tbody tr th {\n",
       "        vertical-align: top;\n",
       "    }\n",
       "\n",
       "    .dataframe thead th {\n",
       "        text-align: right;\n",
       "    }\n",
       "</style>\n",
       "<table border=\"1\" class=\"dataframe\">\n",
       "  <thead>\n",
       "    <tr style=\"text-align: right;\">\n",
       "      <th></th>\n",
       "      <th>Score</th>\n",
       "    </tr>\n",
       "    <tr>\n",
       "      <th>Author</th>\n",
       "      <th></th>\n",
       "    </tr>\n",
       "  </thead>\n",
       "  <tbody>\n",
       "    <tr>\n",
       "      <th>Suzanne Collins</th>\n",
       "      <td>71780.000000</td>\n",
       "    </tr>\n",
       "    <tr>\n",
       "      <th>John Green</th>\n",
       "      <td>69223.333333</td>\n",
       "    </tr>\n",
       "    <tr>\n",
       "      <th>Gillian Flynn</th>\n",
       "      <td>62884.000000</td>\n",
       "    </tr>\n",
       "    <tr>\n",
       "      <th>Andy Weir</th>\n",
       "      <td>61662.000000</td>\n",
       "    </tr>\n",
       "    <tr>\n",
       "      <th>Donna Tartt</th>\n",
       "      <td>56284.000000</td>\n",
       "    </tr>\n",
       "  </tbody>\n",
       "</table>\n",
       "</div>"
      ],
      "text/plain": [
       "                        Score\n",
       "Author                       \n",
       "Suzanne Collins  71780.000000\n",
       "John Green       69223.333333\n",
       "Gillian Flynn    62884.000000\n",
       "Andy Weir        61662.000000\n",
       "Donna Tartt      56284.000000"
      ]
     },
     "execution_count": 13,
     "metadata": {},
     "output_type": "execute_result"
    }
   ],
   "source": [
    "author_score = df[['Author', 'Score']].groupby(['Author']).mean()\n",
    "author_score.sort_values(by='Score', ascending=False).head()"
   ]
  },
  {
   "cell_type": "markdown",
   "metadata": {},
   "source": [
    "The results above show the average score of each author. So that in the future we can recommend books from the top authors (for example the top 5 authors) to enter the list of books on Goodreads."
   ]
  },
  {
   "cell_type": "markdown",
   "metadata": {},
   "source": [
    "#### Top 5 Book (by Score)"
   ]
  },
  {
   "cell_type": "code",
   "execution_count": 14,
   "metadata": {},
   "outputs": [
    {
     "data": {
      "text/html": [
       "<div>\n",
       "<style scoped>\n",
       "    .dataframe tbody tr th:only-of-type {\n",
       "        vertical-align: middle;\n",
       "    }\n",
       "\n",
       "    .dataframe tbody tr th {\n",
       "        vertical-align: top;\n",
       "    }\n",
       "\n",
       "    .dataframe thead th {\n",
       "        text-align: right;\n",
       "    }\n",
       "</style>\n",
       "<table border=\"1\" class=\"dataframe\">\n",
       "  <thead>\n",
       "    <tr style=\"text-align: right;\">\n",
       "      <th></th>\n",
       "      <th>Book Title</th>\n",
       "      <th>Author</th>\n",
       "      <th>Score</th>\n",
       "    </tr>\n",
       "  </thead>\n",
       "  <tbody>\n",
       "    <tr>\n",
       "      <th>0</th>\n",
       "      <td>The Fault in Our Stars</td>\n",
       "      <td>John Green</td>\n",
       "      <td>202279</td>\n",
       "    </tr>\n",
       "    <tr>\n",
       "      <th>1</th>\n",
       "      <td>Divergent (Divergent, #1)</td>\n",
       "      <td>Veronica Roth</td>\n",
       "      <td>146912</td>\n",
       "    </tr>\n",
       "    <tr>\n",
       "      <th>2</th>\n",
       "      <td>Mockingjay (The Hunger Games, #3)</td>\n",
       "      <td>Suzanne Collins</td>\n",
       "      <td>141868</td>\n",
       "    </tr>\n",
       "    <tr>\n",
       "      <th>3</th>\n",
       "      <td>Gone Girl</td>\n",
       "      <td>Gillian Flynn</td>\n",
       "      <td>125694</td>\n",
       "    </tr>\n",
       "    <tr>\n",
       "      <th>4</th>\n",
       "      <td>The Martian</td>\n",
       "      <td>Andy Weir</td>\n",
       "      <td>122769</td>\n",
       "    </tr>\n",
       "  </tbody>\n",
       "</table>\n",
       "</div>"
      ],
      "text/plain": [
       "                          Book Title           Author   Score\n",
       "0             The Fault in Our Stars       John Green  202279\n",
       "1          Divergent (Divergent, #1)    Veronica Roth  146912\n",
       "2  Mockingjay (The Hunger Games, #3)  Suzanne Collins  141868\n",
       "3                          Gone Girl    Gillian Flynn  125694\n",
       "4                        The Martian        Andy Weir  122769"
      ]
     },
     "execution_count": 14,
     "metadata": {},
     "output_type": "execute_result"
    }
   ],
   "source": [
    "favorite_book = df[['Book Title', 'Author', 'Score']]\n",
    "favorite_book.head()"
   ]
  },
  {
   "cell_type": "markdown",
   "metadata": {},
   "source": [
    "The table above shows the 5 books with the highest scores on the `Goodreads-Best Book of the Decade: 2010s` website. These books have also entered the big screen and become booming films of their time."
   ]
  },
  {
   "cell_type": "code",
   "execution_count": 15,
   "metadata": {},
   "outputs": [
    {
     "data": {
      "text/html": [
       "<div>\n",
       "<style scoped>\n",
       "    .dataframe tbody tr th:only-of-type {\n",
       "        vertical-align: middle;\n",
       "    }\n",
       "\n",
       "    .dataframe tbody tr th {\n",
       "        vertical-align: top;\n",
       "    }\n",
       "\n",
       "    .dataframe thead th {\n",
       "        text-align: right;\n",
       "    }\n",
       "</style>\n",
       "<table border=\"1\" class=\"dataframe\">\n",
       "  <thead>\n",
       "    <tr style=\"text-align: right;\">\n",
       "      <th></th>\n",
       "      <th>Rating</th>\n",
       "      <th>Score</th>\n",
       "      <th>People Voted</th>\n",
       "    </tr>\n",
       "  </thead>\n",
       "  <tbody>\n",
       "    <tr>\n",
       "      <th>Rating</th>\n",
       "      <td>1.000000</td>\n",
       "      <td>0.049532</td>\n",
       "      <td>0.050056</td>\n",
       "    </tr>\n",
       "    <tr>\n",
       "      <th>Score</th>\n",
       "      <td>0.049532</td>\n",
       "      <td>1.000000</td>\n",
       "      <td>0.999654</td>\n",
       "    </tr>\n",
       "    <tr>\n",
       "      <th>People Voted</th>\n",
       "      <td>0.050056</td>\n",
       "      <td>0.999654</td>\n",
       "      <td>1.000000</td>\n",
       "    </tr>\n",
       "  </tbody>\n",
       "</table>\n",
       "</div>"
      ],
      "text/plain": [
       "                Rating     Score  People Voted\n",
       "Rating        1.000000  0.049532      0.050056\n",
       "Score         0.049532  1.000000      0.999654\n",
       "People Voted  0.050056  0.999654      1.000000"
      ]
     },
     "execution_count": 15,
     "metadata": {},
     "output_type": "execute_result"
    }
   ],
   "source": [
    "# Findings the correlation between Rating, Score, and People_Voted\n",
    "df[['Rating', 'Score', 'People Voted']].corr()"
   ]
  },
  {
   "cell_type": "markdown",
   "metadata": {},
   "source": [
    "Based on the table above, we can see that Score and People Voted have a high correlation."
   ]
  },
  {
   "cell_type": "code",
   "execution_count": 16,
   "metadata": {},
   "outputs": [
    {
     "data": {
      "text/plain": [
       "(0.0, 212392.9)"
      ]
     },
     "execution_count": 16,
     "metadata": {},
     "output_type": "execute_result"
    },
    {
     "data": {
      "image/png": "[encoded data removed]",
      "text/plain": [
       "<Figure size 432x288 with 1 Axes>"
      ]
     },
     "metadata": {
      "needs_background": "light"
     },
     "output_type": "display_data"
    }
   ],
   "source": [
    "sns.regplot(x='People Voted', y='Score', data=df)\n",
    "plt.ylim(0,)"
   ]
  },
  {
   "cell_type": "code",
   "execution_count": 17,
   "metadata": {},
   "outputs": [
    {
     "name": "stdout",
     "output_type": "stream",
     "text": [
      "The Pearson Correlation Coefficient is 0.9996535039599108  with a P-value of P = 0.0\n"
     ]
    }
   ],
   "source": [
    "pearson_coef, p_value = stats.pearsonr(df['People Voted'], df['Score'])\n",
    "print(\"The Pearson Correlation Coefficient is\", pearson_coef, \" with a P-value of P =\", p_value)  "
   ]
  },
  {
   "cell_type": "code",
   "execution_count": 18,
   "metadata": {},
   "outputs": [
    {
     "data": {
      "text/plain": [
       "(0.0, 5.25)"
      ]
     },
     "execution_count": 18,
     "metadata": {},
     "output_type": "execute_result"
    },
    {
     "data": {
      "image/png": "[encoded data removed]",
      "text/plain": [
       "<Figure size 432x288 with 1 Axes>"
      ]
     },
     "metadata": {
      "needs_background": "light"
     },
     "output_type": "display_data"
    }
   ],
   "source": [
    "sns.regplot(x='People Voted', y='Rating', data=df)\n",
    "plt.ylim(0,)"
   ]
  },
  {
   "cell_type": "code",
   "execution_count": 19,
   "metadata": {},
   "outputs": [
    {
     "name": "stdout",
     "output_type": "stream",
     "text": [
      "The Pearson Correlation Coefficient is 0.05005616950549138  with a P-value of P = 4.3215186266911494e-05\n"
     ]
    }
   ],
   "source": [
    "pearson_coef, p_value = stats.pearsonr(df['People Voted'], df['Rating'])\n",
    "print(\"The Pearson Correlation Coefficient is\", pearson_coef, \" with a P-value of P =\", p_value)"
   ]
  },
  {
   "cell_type": "code",
   "execution_count": 20,
   "metadata": {},
   "outputs": [
    {
     "data": {
      "text/plain": [
       "(0.0, 5.25)"
      ]
     },
     "execution_count": 20,
     "metadata": {},
     "output_type": "execute_result"
    },
    {
     "data": {
      "image/png": "[encoded data removed]",
      "text/plain": [
       "<Figure size 432x288 with 1 Axes>"
      ]
     },
     "metadata": {
      "needs_background": "light"
     },
     "output_type": "display_data"
    }
   ],
   "source": [
    "sns.regplot(x='Score', y='Rating', data=df)\n",
    "plt.ylim(0,)"
   ]
  },
  {
   "cell_type": "code",
   "execution_count": 21,
   "metadata": {},
   "outputs": [
    {
     "name": "stdout",
     "output_type": "stream",
     "text": [
      "The Pearson Correlation Coefficient is 0.04953170777021255  with a P-value of P = 5.1949117115125574e-05\n"
     ]
    }
   ],
   "source": [
    "pearson_coef, p_value = stats.pearsonr(df['Score'], df['Rating'])\n",
    "print(\"The Pearson Correlation Coefficient is\", pearson_coef, \" with a P-value of P =\", p_value)"
   ]
  },
  {
   "cell_type": "code",
   "execution_count": null,
   "metadata": {},
   "outputs": [],
   "source": []
  }
 ],
 "metadata": {
  "kernelspec": {
   "display_name": "Python 3",
   "language": "python",
   "name": "python3"
  },
  "language_info": {
   "codemirror_mode": {
    "name": "ipython",
    "version": 3
   },
   "file_extension": ".py",
   "mimetype": "text/x-python",
   "name": "python",
   "nbconvert_exporter": "python",
   "pygments_lexer": "ipython3",
   "version": "3.8.3"
  }
 },
 "nbformat": 4,
 "nbformat_minor": 2
}
